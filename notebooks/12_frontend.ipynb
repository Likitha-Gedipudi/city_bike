{
 "cells": [
  {
   "cell_type": "code",
   "execution_count": 1,
   "id": "4aba119e-8624-4c30-ad3c-49759f3f18d4",
   "metadata": {},
   "outputs": [],
   "source": [
    "import sys\n",
    "import os\n",
    "\n",
    "# Add the parent directory to the Python path\n",
    "sys.path.append(os.path.abspath(os.path.join(os.getcwd(), \"..\")))\n",
    "import src.config as config"
   ]
  },
  {
   "cell_type": "code",
   "execution_count": 2,
   "id": "136e4fe1",
   "metadata": {},
   "outputs": [],
   "source": [
    "from src.inference import fetch_hourly_rides, fetch_predictions"
   ]
  },
  {
   "cell_type": "code",
   "execution_count": 6,
   "id": "4deab100",
   "metadata": {},
   "outputs": [
    {
     "name": "stdout",
     "output_type": "stream",
     "text": [
      "2025-05-10 06:00:00-04:00\n",
      "2025-05-10 18:37:48,074 INFO: Closing external client and cleaning up certificates.\n",
      "Connection closed.\n",
      "2025-05-10 18:37:48,076 INFO: Initializing external client\n",
      "2025-05-10 18:37:48,077 INFO: Base URL: https://c.app.hopsworks.ai:443\n",
      "2025-05-10 18:37:48,619 INFO: Python Engine initialized.\n",
      "\n",
      "Logged in to project, explore it here https://c.app.hopsworks.ai:443/p/1216660\n",
      "Finished: Reading data from Hopsworks, using Hopsworks Feature Query Service (0.71s) \n",
      "                    pickup_hour pickup_location_id  rides\n",
      "0     2025-05-03 20:00:00+00:00              JC108      0\n",
      "1     2025-04-14 07:00:00+00:00              JC009      0\n",
      "2     2025-04-19 05:00:00+00:00              HB301      0\n",
      "3     2025-05-02 08:00:00+00:00              JC075      0\n",
      "4     2025-05-02 12:00:00+00:00              JC053      2\n",
      "...                         ...                ...    ...\n",
      "55854 2025-04-18 09:00:00+00:00              JC115      0\n",
      "55855 2025-05-08 00:00:00+00:00              JC018      1\n",
      "55856 2025-04-22 09:00:00+00:00              HB611      0\n",
      "55857 2025-04-28 19:00:00+00:00              HB304      0\n",
      "55858 2025-05-07 23:00:00+00:00              JC074      0\n",
      "\n",
      "[55859 rows x 3 columns]\n",
      "Finished: Reading data from Hopsworks, using Hopsworks Feature Query Service (0.40s) \n",
      "2025-05-10 18:37:55,629 INFO: Closing external client and cleaning up certificates.\n",
      "Connection closed.\n",
      "2025-05-10 18:37:55,637 INFO: Initializing external client\n",
      "2025-05-10 18:37:55,638 INFO: Base URL: https://c.app.hopsworks.ai:443\n",
      "2025-05-10 18:37:56,206 INFO: Python Engine initialized.\n",
      "\n",
      "Logged in to project, explore it here https://c.app.hopsworks.ai:443/p/1216660\n",
      "Finished: Reading data from Hopsworks, using Hopsworks Feature Query Service (0.41s) \n",
      "mnbdsjhv\n",
      "                   pickup_hour pickup_location_id  rides\n",
      "0    2025-05-10 15:00:00+00:00              HB402      0\n",
      "1    2025-05-10 06:00:00+00:00              JC034      6\n",
      "2    2025-05-10 06:00:00+00:00              HB611      8\n",
      "3    2025-05-10 18:00:00+00:00              HB506      8\n",
      "4    2025-05-10 10:00:00+00:00              JC109      0\n",
      "...                        ...                ...    ...\n",
      "1074 2025-05-10 13:00:00+00:00              JC032      0\n",
      "1075 2025-05-10 15:00:00+00:00              JC051      0\n",
      "1076 2025-05-10 06:00:00+00:00              JC038      7\n",
      "1077 2025-05-10 15:00:00+00:00              JC097      0\n",
      "1078 2025-05-10 11:00:00+00:00              JC009      0\n",
      "\n",
      "[1079 rows x 3 columns]\n",
      "sdwdsd\n",
      "   pickup_location_id  predicted_demand               pickup_hour\n",
      "0               JC023               0.0 2025-05-10 23:00:00+00:00\n",
      "1               JC072               0.0 2025-05-10 23:00:00+00:00\n",
      "2               JC077               2.0 2025-05-10 23:00:00+00:00\n",
      "3               HB505               3.0 2025-05-10 23:00:00+00:00\n",
      "4               JC102               1.0 2025-05-10 23:00:00+00:00\n",
      "..                ...               ...                       ...\n",
      "78              JC020               2.0 2025-05-10 23:00:00+00:00\n",
      "79              HB502               8.0 2025-05-10 23:00:00+00:00\n",
      "80              HB304               0.0 2025-05-10 23:00:00+00:00\n",
      "81              HB101               2.0 2025-05-10 23:00:00+00:00\n",
      "82              JC098               1.0 2025-05-10 23:00:00+00:00\n",
      "\n",
      "[83 rows x 3 columns]\n"
     ]
    }
   ],
   "source": [
    "df1 = fetch_hourly_rides(12)\n",
    "df2 = fetch_predictions(12)\n",
    "print(\"mnbdsjhv\")\n",
    "print(df1)\n",
    "print(\"sdwdsd\")\n",
    "print(df2)"
   ]
  },
  {
   "cell_type": "code",
   "execution_count": 7,
   "id": "fb85ae1c",
   "metadata": {},
   "outputs": [],
   "source": [
    "import pandas as pd"
   ]
  },
  {
   "cell_type": "code",
   "execution_count": 8,
   "id": "cc2ec2b9",
   "metadata": {},
   "outputs": [
    {
     "name": "stdout",
     "output_type": "stream",
     "text": [
      "Empty DataFrame\n",
      "Columns: [pickup_hour, pickup_location_id, rides, predicted_demand]\n",
      "Index: []\n"
     ]
    }
   ],
   "source": [
    "merged_df = pd.merge(df1, df2, on=[\"pickup_location_id\", \"pickup_hour\"])\n",
    "\n",
    "print(merged_df)"
   ]
  },
  {
   "cell_type": "code",
   "execution_count": 9,
   "id": "5a674c3b",
   "metadata": {},
   "outputs": [
    {
     "name": "stdout",
     "output_type": "stream",
     "text": [
      "['location', 'stationid', 'geometry']\n"
     ]
    }
   ],
   "source": [
    "import geopandas as gpd\n",
    "\n",
    "# Replace with the actual path to your downloaded .shp file\n",
    "shape_url = \"https://data.jerseycitynj.gov/api/explore/v2.1/catalog/datasets/citi-bike-locations-phase-1-system-map-3/exports/shp?lang=en&timezone=America%2FNew_York\"\n",
    "gdf = gpd.read_file(shape_url)\n",
    "\n",
    "print(gdf.columns.tolist())\n"
   ]
  }
 ],
 "metadata": {
  "kernelspec": {
   "display_name": "citi",
   "language": "python",
   "name": "python3"
  },
  "language_info": {
   "codemirror_mode": {
    "name": "ipython",
    "version": 3
   },
   "file_extension": ".py",
   "mimetype": "text/x-python",
   "name": "python",
   "nbconvert_exporter": "python",
   "pygments_lexer": "ipython3",
   "version": "3.11.11"
  }
 },
 "nbformat": 4,
 "nbformat_minor": 5
}
